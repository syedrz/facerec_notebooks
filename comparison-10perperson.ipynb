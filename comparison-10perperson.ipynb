{
 "cells": [
  {
   "cell_type": "code",
   "execution_count": 23,
   "metadata": {
    "collapsed": false
   },
   "outputs": [
    {
     "name": "stdout",
     "output_type": "stream",
     "text": [
      "classes 7\n"
     ]
    }
   ],
   "source": [
    "from clamv import *\n",
    "\n",
    "import cv2\n",
    "from sklearn.decomposition import PCA\n",
    "from sklearn.svm import LinearSVC, SVC\n",
    "from sklearn.model_selection import GridSearchCV\n",
    "from sklearn.discriminant_analysis import LinearDiscriminantAnalysis\n",
    "from sklearn.neighbors import KNeighborsClassifier\n",
    "\n",
    "img = get_images(min_faces_per_person=70)\n",
    "X, y = up_to_per_person(img.data, img.target, n=20)\n",
    "\n",
    "imgc = get_images(min_faces_per_person=70, color=True)\n",
    "Xc, yc = up_to_per_person(imgc.images, imgc.target, n=20)"
   ]
  },
  {
   "cell_type": "markdown",
   "metadata": {},
   "source": [
    "# EigenFaces"
   ]
  },
  {
   "cell_type": "code",
   "execution_count": 25,
   "metadata": {
    "collapsed": false,
    "scrolled": false
   },
   "outputs": [
    {
     "name": "stdout",
     "output_type": "stream",
     "text": [
      "Wed Nov 30 16:02:42 2016\n",
      "Fold Accuracy:0.0714285714286\n",
      "Fold Accuracy:0.285714285714\n",
      "Fold Accuracy:0.357142857143\n",
      "Fold Accuracy:0.428571428571\n",
      "Fold Accuracy:0.357142857143\n",
      "Fold Accuracy:0.428571428571\n",
      "Fold Accuracy:0.0714285714286\n",
      "Fold Accuracy:0.357142857143\n",
      "Fold Accuracy:0.142857142857\n",
      "Fold Accuracy:0.142857142857\n",
      "duration: 9.397239923477173\n"
     ]
    },
    {
     "data": {
      "text/plain": [
       "(0.26428571428571429, 0.1357142857142857)"
      ]
     },
     "execution_count": 25,
     "metadata": {},
     "output_type": "execute_result"
    }
   ],
   "source": [
    "test(OpenCVClassifier(cv2.face.createEigenFaceRecognizer), X, y, \n",
    "     'opencv_eigenfaces10f')"
   ]
  },
  {
   "cell_type": "code",
   "execution_count": 24,
   "metadata": {
    "collapsed": false
   },
   "outputs": [
    {
     "name": "stdout",
     "output_type": "stream",
     "text": [
      "Wed Nov 30 16:01:31 2016\n",
      "Fold Accuracy:0.357142857143\n",
      "Fold Accuracy:0.571428571429\n",
      "Fold Accuracy:0.5\n",
      "Fold Accuracy:0.785714285714\n",
      "Fold Accuracy:0.571428571429\n",
      "Fold Accuracy:0.571428571429\n",
      "Fold Accuracy:0.785714285714\n",
      "Fold Accuracy:0.571428571429\n",
      "Fold Accuracy:0.571428571429\n",
      "Fold Accuracy:0.785714285714\n",
      "duration: 13.423664569854736\n"
     ]
    },
    {
     "data": {
      "text/plain": [
       "(0.6071428571428571, 0.13267268300719079)"
      ]
     },
     "execution_count": 24,
     "metadata": {},
     "output_type": "execute_result"
    }
   ],
   "source": [
    "test(TransformerClassifier(PCA(), LinearSVC()), X, y, 'pca10f')"
   ]
  },
  {
   "cell_type": "code",
   "execution_count": 13,
   "metadata": {
    "collapsed": false,
    "scrolled": true
   },
   "outputs": [
    {
     "name": "stdout",
     "output_type": "stream",
     "text": [
      "Wed Nov 30 12:44:14 2016\n",
      "Fold Accuracy:0.142857142857\n",
      "Fold Accuracy:0.142857142857\n",
      "Fold Accuracy:0.142857142857\n",
      "Fold Accuracy:0.142857142857\n",
      "Fold Accuracy:0.142857142857\n",
      "Fold Accuracy:0.142857142857\n",
      "Fold Accuracy:0.142857142857\n",
      "Fold Accuracy:0.142857142857\n",
      "Fold Accuracy:0.142857142857\n",
      "Fold Accuracy:0.142857142857\n",
      "duration: 69.65986585617065\n"
     ]
    },
    {
     "data": {
      "text/plain": [
       "(0.14285714285714285, 0.0)"
      ]
     },
     "execution_count": 13,
     "metadata": {},
     "output_type": "execute_result"
    }
   ],
   "source": [
    "pca = PCA(n_components=150, svd_solver='randomized', whiten=True)\n",
    "param_grid = {\n",
    "    'C': [1e3, 5e3, 1e4, 5e4, 1e5],\n",
    "    'gamma': [0.0001, 0.0005, 0.001, 0.005, 0.01, 0.1],\n",
    "}\n",
    "clf = GridSearchCV(SVC(kernel='rbf', class_weight='balanced'), \n",
    "                   param_grid)\n",
    "test(TransformerClassifier(pca, clf), X, y, 'pca_grid10f')"
   ]
  },
  {
   "cell_type": "code",
   "execution_count": 39,
   "metadata": {
    "collapsed": false
   },
   "outputs": [
    {
     "name": "stdout",
     "output_type": "stream",
     "text": [
      "Wed Nov 30 16:14:10 2016\n",
      "Fold Accuracy:0.428571428571\n",
      "Fold Accuracy:0.642857142857\n",
      "Fold Accuracy:0.5\n",
      "Fold Accuracy:0.785714285714\n",
      "Fold Accuracy:0.642857142857\n",
      "Fold Accuracy:0.571428571429\n",
      "Fold Accuracy:0.714285714286\n",
      "Fold Accuracy:0.642857142857\n",
      "Fold Accuracy:0.5\n",
      "Fold Accuracy:0.857142857143\n",
      "duration: 21.287091732025146\n"
     ]
    },
    {
     "data": {
      "text/plain": [
       "(0.62857142857142856, 0.12697420596165127)"
      ]
     },
     "execution_count": 39,
     "metadata": {},
     "output_type": "execute_result"
    }
   ],
   "source": [
    "test(ColorClassifier(PCA(), LinearSVC()), Xc, yc, 'color10f')"
   ]
  },
  {
   "cell_type": "markdown",
   "metadata": {},
   "source": [
    "# FisherFaces"
   ]
  },
  {
   "cell_type": "code",
   "execution_count": 14,
   "metadata": {
    "collapsed": false
   },
   "outputs": [
    {
     "name": "stdout",
     "output_type": "stream",
     "text": [
      "Wed Nov 30 12:45:24 2016\n",
      "Fold Accuracy:0.428571428571\n",
      "Fold Accuracy:0.5\n",
      "Fold Accuracy:0.428571428571\n",
      "Fold Accuracy:0.642857142857\n",
      "Fold Accuracy:0.571428571429\n",
      "Fold Accuracy:0.5\n",
      "Fold Accuracy:0.642857142857\n",
      "Fold Accuracy:0.5\n",
      "Fold Accuracy:0.571428571429\n",
      "Fold Accuracy:0.857142857143\n",
      "duration: 8.341248273849487\n"
     ]
    },
    {
     "data": {
      "text/plain": [
       "(0.56428571428571428, 0.12142857142857143)"
      ]
     },
     "execution_count": 14,
     "metadata": {},
     "output_type": "execute_result"
    }
   ],
   "source": [
    "test(OpenCVClassifier(cv2.face.createFisherFaceRecognizer), X, y,\n",
    "     'opencv_fisherfaces10f')"
   ]
  },
  {
   "cell_type": "code",
   "execution_count": 18,
   "metadata": {
    "collapsed": false,
    "scrolled": true
   },
   "outputs": [
    {
     "name": "stdout",
     "output_type": "stream",
     "text": [
      "Wed Nov 30 12:54:43 2016\n",
      "Fold Accuracy:0.571428571429\n",
      "Fold Accuracy:0.5\n",
      "Fold Accuracy:0.785714285714\n",
      "Fold Accuracy:0.785714285714\n",
      "Fold Accuracy:0.642857142857\n",
      "Fold Accuracy:0.571428571429\n",
      "Fold Accuracy:0.714285714286\n",
      "Fold Accuracy:0.642857142857\n",
      "Fold Accuracy:0.571428571429\n",
      "Fold Accuracy:0.571428571429\n",
      "duration: 13.534712553024292\n"
     ]
    },
    {
     "data": {
      "text/plain": [
       "(0.63571428571428568, 0.09285714285714286)"
      ]
     },
     "execution_count": 18,
     "metadata": {},
     "output_type": "execute_result"
    }
   ],
   "source": [
    "test(TransformerClassifier(LinearDiscriminantAnalysis(), LinearSVC()),\n",
    "     X, y, 'fisher10f')"
   ]
  },
  {
   "cell_type": "code",
   "execution_count": 19,
   "metadata": {
    "collapsed": false
   },
   "outputs": [
    {
     "name": "stdout",
     "output_type": "stream",
     "text": [
      "Wed Nov 30 12:54:56 2016\n",
      "Fold Accuracy:0.5\n",
      "Fold Accuracy:0.357142857143\n",
      "Fold Accuracy:0.785714285714\n",
      "Fold Accuracy:0.571428571429\n",
      "Fold Accuracy:0.5\n",
      "Fold Accuracy:0.214285714286\n",
      "Fold Accuracy:0.642857142857\n",
      "Fold Accuracy:0.642857142857\n",
      "Fold Accuracy:0.642857142857\n",
      "Fold Accuracy:0.571428571429\n",
      "duration: 19.373964548110962\n"
     ]
    },
    {
     "data": {
      "text/plain": [
       "(0.54285714285714293, 0.15386185163241439)"
      ]
     },
     "execution_count": 19,
     "metadata": {},
     "output_type": "execute_result"
    }
   ],
   "source": [
    "param_grid = {\n",
    "    'C': [1e3, 5e3, 1e4, 5e4, 1e5],\n",
    "    'gamma': [0.0001, 0.0005, 0.001, 0.005, 0.01, 0.1],\n",
    "}\n",
    "clf = GridSearchCV(SVC(kernel='rbf', class_weight='balanced'), \n",
    "                   param_grid)\n",
    "test(TransformerClassifier(LinearDiscriminantAnalysis(), clf), X, y,\n",
    "     'lda_grid10f')"
   ]
  },
  {
   "cell_type": "code",
   "execution_count": 20,
   "metadata": {
    "collapsed": false,
    "scrolled": false
   },
   "outputs": [
    {
     "name": "stdout",
     "output_type": "stream",
     "text": [
      "Wed Nov 30 12:55:16 2016\n",
      "Fold Accuracy:0.642857142857\n",
      "Fold Accuracy:0.571428571429\n",
      "Fold Accuracy:0.642857142857\n",
      "Fold Accuracy:0.785714285714\n",
      "Fold Accuracy:0.5\n",
      "Fold Accuracy:0.214285714286\n",
      "Fold Accuracy:0.5\n",
      "Fold Accuracy:0.428571428571\n",
      "Fold Accuracy:0.428571428571\n",
      "Fold Accuracy:0.357142857143\n",
      "duration: 16.961299896240234\n"
     ]
    },
    {
     "data": {
      "text/plain": [
       "(0.50714285714285723, 0.15468862734076941)"
      ]
     },
     "execution_count": 20,
     "metadata": {},
     "output_type": "execute_result"
    }
   ],
   "source": [
    "param_grid = {\n",
    "    'C': [1e3, 5e3, 1e4, 5e4, 1e5],\n",
    "}\n",
    "clf = GridSearchCV(LinearSVC(), param_grid)\n",
    "test(TransformerClassifier(LinearDiscriminantAnalysis(), clf), X, y,\n",
    "     'lda_linear_grid10f')"
   ]
  },
  {
   "cell_type": "code",
   "execution_count": 38,
   "metadata": {
    "collapsed": false
   },
   "outputs": [
    {
     "name": "stdout",
     "output_type": "stream",
     "text": [
      "Wed Nov 30 16:13:31 2016\n",
      "Fold Accuracy:0.428571428571\n",
      "Fold Accuracy:0.785714285714\n",
      "Fold Accuracy:0.571428571429\n",
      "Fold Accuracy:0.857142857143\n",
      "Fold Accuracy:0.642857142857\n",
      "Fold Accuracy:0.571428571429\n",
      "Fold Accuracy:0.785714285714\n",
      "Fold Accuracy:0.571428571429\n",
      "Fold Accuracy:0.714285714286\n",
      "Fold Accuracy:0.571428571429\n",
      "duration: 20.690351724624634\n"
     ]
    },
    {
     "data": {
      "text/plain": [
       "(0.64999999999999991, 0.12555997022319249)"
      ]
     },
     "execution_count": 38,
     "metadata": {},
     "output_type": "execute_result"
    }
   ],
   "source": [
    "test(ColorClassifier(LinearDiscriminantAnalysis(), LinearSVC()), Xc, yc, 'color10f')"
   ]
  }
 ],
 "metadata": {
  "kernelspec": {
   "display_name": "Python 3",
   "language": "python",
   "name": "python3"
  },
  "language_info": {
   "codemirror_mode": {
    "name": "ipython",
    "version": 3
   },
   "file_extension": ".py",
   "mimetype": "text/x-python",
   "name": "python",
   "nbconvert_exporter": "python",
   "pygments_lexer": "ipython3",
   "version": "3.5.2"
  }
 },
 "nbformat": 4,
 "nbformat_minor": 1
}
