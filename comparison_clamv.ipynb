{
 "cells": [
  {
   "cell_type": "code",
   "execution_count": 5,
   "metadata": {
    "collapsed": false
   },
   "outputs": [],
   "source": [
    "%matplotlib inline\n",
    "import numpy as np\n",
    "import matplotlib.pyplot as plt\n",
    "\n",
    "from scipy.misc import imresize\n",
    "from sklearn.discriminant_analysis import LinearDiscriminantAnalysis\n",
    "from sklearn.svm import SVC\n",
    "from sklearn.utils import shuffle\n",
    "from sklearn.externals import joblib\n",
    "from clamv import *"
   ]
  },
  {
   "cell_type": "code",
   "execution_count": 6,
   "metadata": {
    "collapsed": false
   },
   "outputs": [],
   "source": [
    "X, y = get_clamv_images(resize_size=(60,40,3))\n",
    "\n",
    "# Shuffle the data\n",
    "X, y = shuffle(X, y, random_state=42)"
   ]
  },
  {
   "cell_type": "code",
   "execution_count": 7,
   "metadata": {
    "collapsed": false
   },
   "outputs": [
    {
     "name": "stdout",
     "output_type": "stream",
     "text": [
      "Mon Apr 17 16:05:20 2017\n",
      "Fold Accuracy:1.0\n",
      "Fold Accuracy:1.0\n",
      "Fold Accuracy:1.0\n",
      "Fold Accuracy:1.0\n",
      "Fold Accuracy:1.0\n",
      "Fold Accuracy:1.0\n",
      "Fold Accuracy:1.0\n",
      "Fold Accuracy:1.0\n",
      "Fold Accuracy:1.0\n",
      "Fold Accuracy:1.0\n",
      "duration: 5.976786136627197\n"
     ]
    },
    {
     "data": {
      "text/plain": [
       "(1.0, 0.0)"
      ]
     },
     "execution_count": 7,
     "metadata": {},
     "output_type": "execute_result"
    }
   ],
   "source": [
    "# This is a K-Fold\n",
    "test(ColorClassifier(LinearDiscriminantAnalysis(), SVC(kernel='linear', probability=True), 'ColourFisherfaces'),\n",
    "     X, y, 'color_fisher_svc')"
   ]
  }
 ],
 "metadata": {
  "kernelspec": {
   "display_name": "Python 3",
   "language": "python",
   "name": "python3"
  },
  "language_info": {
   "codemirror_mode": {
    "name": "ipython",
    "version": 3
   },
   "file_extension": ".py",
   "mimetype": "text/x-python",
   "name": "python",
   "nbconvert_exporter": "python",
   "pygments_lexer": "ipython3",
   "version": "3.6.0"
  }
 },
 "nbformat": 4,
 "nbformat_minor": 2
}
