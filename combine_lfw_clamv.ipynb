{
 "cells": [
  {
   "cell_type": "code",
   "execution_count": 1,
   "metadata": {
    "collapsed": true
   },
   "outputs": [],
   "source": [
    "from glob import glob\n",
    "from sklearn.datasets import fetch_lfw_people\n",
    "from clamv import *\n",
    "\n",
    "import os\n",
    "import cv2 \n",
    "import numpy as np"
   ]
  },
  {
   "cell_type": "markdown",
   "metadata": {},
   "source": [
    "# Combine Datasets"
   ]
  },
  {
   "cell_type": "code",
   "execution_count": 2,
   "metadata": {
    "collapsed": false
   },
   "outputs": [],
   "source": [
    "# Load our dataset first \n",
    "y = []\n",
    "X = []\n",
    "for path in glob('../final_dataset/*/*'):\n",
    "    _, _, y1, name = path.split('/')\n",
    "    x1 = cv2.imread(path)\n",
    "    \n",
    "    y.append(y1)\n",
    "    X.append(x1)"
   ]
  },
  {
   "cell_type": "code",
   "execution_count": 3,
   "metadata": {
    "collapsed": false
   },
   "outputs": [],
   "source": [
    "# Load lfw dataset\n",
    "output = fetch_lfw_people(color=True, min_faces_per_person=25, resize=1)\n",
    "lfw_X = output.images\n",
    "lfw_y = output.target\n",
    "\n",
    "lfw_names = output.target_names"
   ]
  },
  {
   "cell_type": "code",
   "execution_count": 4,
   "metadata": {
    "collapsed": false
   },
   "outputs": [],
   "source": [
    "clmv_dict = {}\n",
    "for idx, val in enumerate(np.unique(y)):\n",
    "    clmv_dict[val] = idx"
   ]
  },
  {
   "cell_type": "code",
   "execution_count": 5,
   "metadata": {
    "collapsed": false
   },
   "outputs": [],
   "source": [
    "names = np.concatenate([np.unique(y), lfw_names])"
   ]
  },
  {
   "cell_type": "code",
   "execution_count": 6,
   "metadata": {
    "collapsed": true
   },
   "outputs": [],
   "source": [
    "for idx, n in enumerate(names):\n",
    "    names[idx] = n.title()"
   ]
  },
  {
   "cell_type": "code",
   "execution_count": 7,
   "metadata": {
    "collapsed": false
   },
   "outputs": [],
   "source": [
    "clmv_y = []\n",
    "for n in y:\n",
    "    clmv_y.append(clmv_dict[n])"
   ]
  },
  {
   "cell_type": "code",
   "execution_count": 8,
   "metadata": {
    "collapsed": true
   },
   "outputs": [],
   "source": [
    "combined_y = np.concatenate([clmv_y, lfw_y + len(np.unique(y))])"
   ]
  },
  {
   "cell_type": "code",
   "execution_count": 9,
   "metadata": {
    "collapsed": false
   },
   "outputs": [],
   "source": [
    "# Resize our X to right size\n",
    "resizer = Resizer(lfw_X.shape[2], lfw_X.shape[1])"
   ]
  },
  {
   "cell_type": "code",
   "execution_count": 10,
   "metadata": {
    "collapsed": true
   },
   "outputs": [],
   "source": [
    "clmv_resized_X = []\n",
    "for img in X:\n",
    "    clmv_resized_X.append(resizer(img))"
   ]
  },
  {
   "cell_type": "code",
   "execution_count": 11,
   "metadata": {
    "collapsed": true
   },
   "outputs": [],
   "source": [
    "clmv_resized_X = np.array(clmv_resized_X)"
   ]
  },
  {
   "cell_type": "code",
   "execution_count": 14,
   "metadata": {
    "collapsed": true
   },
   "outputs": [],
   "source": [
    "final_X = np.concatenate([clmv_resized_X, lfw_X])"
   ]
  },
  {
   "cell_type": "code",
   "execution_count": 15,
   "metadata": {
    "collapsed": true
   },
   "outputs": [],
   "source": [
    "np.save('clmv_X.npy', final_X)\n",
    "np.save('clmv_y.npy', combined_y)"
   ]
  },
  {
   "cell_type": "code",
   "execution_count": 16,
   "metadata": {
    "collapsed": true
   },
   "outputs": [],
   "source": [
    "np.save('clmv_names.npy', names)"
   ]
  },
  {
   "cell_type": "code",
   "execution_count": 35,
   "metadata": {
    "collapsed": false
   },
   "outputs": [],
   "source": [
    "X_yuv = []\n",
    "\n",
    "rgb2yuv = FormatConverter(source='RGB', dest='YUV', flip_axis=True)\n",
    "for x in final_X:\n",
    "    X_yuv.append(rgb2yuv(x))\n",
    "    \n",
    "X_yuv = np.array(X_yuv)\n",
    "X_yuv = X_yuv.reshape(len(X_yuv), 3, -1)"
   ]
  },
  {
   "cell_type": "markdown",
   "metadata": {},
   "source": [
    "# Train a Classifier"
   ]
  },
  {
   "cell_type": "code",
   "execution_count": 36,
   "metadata": {
    "collapsed": true
   },
   "outputs": [],
   "source": [
    "X = X_yuv\n",
    "y = combined_y"
   ]
  },
  {
   "cell_type": "code",
   "execution_count": 38,
   "metadata": {
    "collapsed": true
   },
   "outputs": [],
   "source": [
    "from sklearn.discriminant_analysis import LinearDiscriminantAnalysis as LDA\n",
    "from sklearn.decomposition import PCA\n",
    "from sklearn.svm import SVC\n",
    "from sklearn.pipeline import Pipeline"
   ]
  },
  {
   "cell_type": "code",
   "execution_count": 39,
   "metadata": {
    "collapsed": true
   },
   "outputs": [],
   "source": [
    "FisherFaces = Pipeline([\n",
    "    ('pca', MultiDimensionalModel(PCA(n_components=150), dimensions=3)),\n",
    "    ('lda', LDA()),\n",
    "    ('classify', SVC(kernel='linear', class_weight='balanced'))\n",
    "])"
   ]
  },
  {
   "cell_type": "code",
   "execution_count": 58,
   "metadata": {
    "collapsed": true
   },
   "outputs": [],
   "source": [
    "# Create holdout\n",
    "from sklearn.model_selection import train_test_split\n",
    "X_train, X_test, y_train, y_test = train_test_split(X, y, random_state=0)"
   ]
  },
  {
   "cell_type": "code",
   "execution_count": 59,
   "metadata": {
    "collapsed": false
   },
   "outputs": [
    {
     "data": {
      "text/plain": [
       "Pipeline(steps=[('pca', MultiDimensionalModel(dimensions=None,\n",
       "           models=[PCA(copy=True, iterated_power='auto', n_components=150, random_state=None,\n",
       "  svd_solver='auto', tol=0.0, whiten=False), PCA(copy=True, iterated_power='auto', n_components=150, random_state=None,\n",
       "  svd_solver='auto', tol=0.0, wh...,\n",
       "  max_iter=-1, probability=False, random_state=None, shrinking=True,\n",
       "  tol=0.001, verbose=False))])"
      ]
     },
     "execution_count": 59,
     "metadata": {},
     "output_type": "execute_result"
    }
   ],
   "source": [
    "FisherFaces.fit(X_train, y_train)"
   ]
  },
  {
   "cell_type": "code",
   "execution_count": 60,
   "metadata": {
    "collapsed": false
   },
   "outputs": [
    {
     "data": {
      "text/plain": [
       "0.79264705882352937"
      ]
     },
     "execution_count": 60,
     "metadata": {},
     "output_type": "execute_result"
    }
   ],
   "source": [
    "from sklearn.metrics import accuracy_score\n",
    "out = FisherFaces.predict(X_test)\n",
    "accuracy_score(y_test, out)"
   ]
  },
  {
   "cell_type": "code",
   "execution_count": 61,
   "metadata": {
    "collapsed": false
   },
   "outputs": [
    {
     "name": "stdout",
     "output_type": "stream",
     "text": [
      "                           precision    recall  f1-score   support\n",
      "\n",
      "                     Brad       1.00      1.00      1.00         9\n",
      "                    Piotr       1.00      1.00      1.00         5\n",
      "                 Rhiannon       1.00      1.00      1.00         6\n",
      "                   Sophie       1.00      1.00      1.00         7\n",
      "                      Tom       1.00      1.00      1.00         5\n",
      "         Alejandro Toledo       0.56      0.56      0.56         9\n",
      "             Alvaro Uribe       0.60      0.43      0.50         7\n",
      "             Andre Agassi       0.88      0.58      0.70        12\n",
      "             Ariel Sharon       0.75      0.94      0.83        16\n",
      "    Arnold Schwarzenegger       0.27      0.38      0.32         8\n",
      "             Bill Clinton       0.60      0.43      0.50         7\n",
      "             Colin Powell       0.76      0.91      0.83        65\n",
      "            David Beckham       0.43      0.43      0.43         7\n",
      "          Donald Rumsfeld       0.74      0.89      0.81        35\n",
      "            George W Bush       0.83      0.93      0.88       132\n",
      "        Gerhard Schroeder       0.92      0.72      0.81        32\n",
      "  Gloria Macapagal Arroyo       0.80      1.00      0.89         4\n",
      "               Gray Davis       0.83      0.62      0.71         8\n",
      "          Guillermo Coria       0.60      0.75      0.67         4\n",
      "                Hans Blix       1.00      0.69      0.82        13\n",
      "              Hugo Chavez       0.79      0.90      0.84        21\n",
      "               Jack Straw       0.88      0.78      0.82         9\n",
      "           Jacques Chirac       0.73      0.73      0.73        11\n",
      "            Jean Chretien       0.78      0.64      0.70        22\n",
      "        Jennifer Capriati       1.00      0.64      0.78        14\n",
      "            John Ashcroft       0.75      0.86      0.80        14\n",
      "          John Negroponte       0.50      0.50      0.50        10\n",
      "      Juan Carlos Ferrero       1.00      0.57      0.73         7\n",
      "        Junichiro Koizumi       0.95      0.90      0.92        20\n",
      "               Kofi Annan       1.00      0.67      0.80         9\n",
      "               Laura Bush       0.92      1.00      0.96        11\n",
      "           Lleyton Hewitt       0.80      0.80      0.80         5\n",
      "Luiz Inacio Lula Da Silva       1.00      0.92      0.96        13\n",
      "            Mahmoud Abbas       1.00      0.71      0.83         7\n",
      "    Megawati Sukarnoputri       1.00      0.70      0.82        10\n",
      "          Nestor Kirchner       0.89      0.62      0.73        13\n",
      "     Recep Tayyip Erdogan       0.67      0.80      0.73         5\n",
      "            Ricardo Lagos       0.80      0.57      0.67         7\n",
      "             Roh Moo-Hyun       0.80      0.67      0.73         6\n",
      "         Rudolph Giuliani       0.25      0.25      0.25         4\n",
      "          Serena Williams       0.82      0.75      0.78        12\n",
      "        Silvio Berlusconi       0.14      0.17      0.15         6\n",
      "              Tom Daschle       1.00      1.00      1.00         2\n",
      "                Tom Ridge       1.00      0.88      0.93         8\n",
      "               Tony Blair       0.71      0.77      0.74        26\n",
      "              Vicente Fox       1.00      0.50      0.67         4\n",
      "           Vladimir Putin       0.67      0.62      0.64        13\n",
      "\n",
      "              avg / total       0.81      0.79      0.79       680\n",
      "\n"
     ]
    }
   ],
   "source": [
    "from sklearn.metrics import classification_report\n",
    "print(classification_report(y_test, out, target_names=names))"
   ]
  },
  {
   "cell_type": "markdown",
   "metadata": {},
   "source": [
    "# Now Test On Haar Cascades"
   ]
  },
  {
   "cell_type": "code",
   "execution_count": null,
   "metadata": {
    "collapsed": true
   },
   "outputs": [],
   "source": []
  }
 ],
 "metadata": {
  "kernelspec": {
   "display_name": "Python 3",
   "language": "python",
   "name": "python3"
  },
  "language_info": {
   "codemirror_mode": {
    "name": "ipython",
    "version": 3
   },
   "file_extension": ".py",
   "mimetype": "text/x-python",
   "name": "python",
   "nbconvert_exporter": "python",
   "pygments_lexer": "ipython3",
   "version": "3.6.0"
  }
 },
 "nbformat": 4,
 "nbformat_minor": 2
}
