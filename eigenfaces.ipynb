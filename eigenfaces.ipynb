{
 "cells": [
  {
   "cell_type": "code",
   "execution_count": 1,
   "metadata": {
    "collapsed": true
   },
   "outputs": [],
   "source": [
    "%matplotlib inline"
   ]
  },
  {
   "cell_type": "code",
   "execution_count": 2,
   "metadata": {
    "collapsed": false
   },
   "outputs": [],
   "source": [
    "from sklearn.datasets import fetch_lfw_people\n",
    "from sklearn.model_selection import KFold, GridSearchCV, train_test_split\n",
    "from sklearn.metrics import f1_score\n",
    "from sklearn.decomposition import PCA\n",
    "from sklearn.svm import SVC\n",
    "from sklearn.metrics import confusion_matrix, classification_report\n",
    "import matplotlib.pyplot as plt\n",
    "import numpy as np\n",
    "import PIL.Image as Image\n",
    "import cv2\n",
    "from lpproj import LocalityPreservingProjection\n",
    "\n",
    "from IPython.lib import backgroundjobs as bg\n",
    "jobs = bg.BackgroundJobManager()"
   ]
  },
  {
   "cell_type": "markdown",
   "metadata": {
    "collapsed": true
   },
   "source": [
    "# Color\n",
    "http://ac.els-cdn.com/S0167865502003835/1-s2.0-S0167865502003835-main.pdf?_tid=d5fda8d6-a475-11e6-8542-00000aab0f6b&acdnat=1478473849_ce42c7d93d2c665f410c24539c1fafdf\n"
   ]
  },
  {
   "cell_type": "code",
   "execution_count": 20,
   "metadata": {
    "collapsed": false
   },
   "outputs": [],
   "source": [
    "rgb2yuv = np.array([[0.299, 0.587, 0.114],\n",
    "                    [-0.14713, -0.28886, 0.436],\n",
    "                    [0.615, -0.51499, -0.10001]])\n",
    "yuv = np.dot(imgs, rgb2yuv.T)"
   ]
  },
  {
   "cell_type": "code",
   "execution_count": 21,
   "metadata": {
    "collapsed": false
   },
   "outputs": [],
   "source": [
    "X_train_all, X_test_all, y_train, y_test = train_test_split(\n",
    "    yuv, d.target, test_size=0.25, random_state=42)"
   ]
  },
  {
   "cell_type": "code",
   "execution_count": 22,
   "metadata": {
    "collapsed": true
   },
   "outputs": [],
   "source": [
    "def subsample(X):\n",
    "    Y = X[:, :, :, 0]\n",
    "    U = X[:, ::2, ::2, 1]\n",
    "    V = X[:, ::2, ::2, 2]\n",
    "    return (Y, U, V)\n",
    "\n",
    "X_train = subsample(X_train_all)\n",
    "X_test = subsample(X_test_all)"
   ]
  },
  {
   "cell_type": "code",
   "execution_count": 23,
   "metadata": {
    "collapsed": false
   },
   "outputs": [],
   "source": [
    "n_components = 150\n",
    "X_train_pca = []\n",
    "X_test_pca = []\n",
    "\n",
    "for i in range(3):\n",
    "    X = X_train[i]\n",
    "    X = X.reshape(X.shape[0], X.shape[1] * X.shape[2])\n",
    "    Xt = X_test[i]\n",
    "    Xt = Xt.reshape(Xt.shape[0], Xt.shape[1] * Xt.shape[2])\n",
    "    pca = PCA(n_components=n_components, svd_solver='randomized',\n",
    "      whiten=True).fit(X)\n",
    "    X_train_pca.append(pca.transform(X))\n",
    "    X_test_pca.append(pca.transform(Xt))"
   ]
  },
  {
   "cell_type": "code",
   "execution_count": 19,
   "metadata": {
    "collapsed": true
   },
   "outputs": [],
   "source": [
    "def flatten(X):\n",
    "    X = np.swapaxes(np.swapaxes(X, 0, 1), 1, 2)\n",
    "    return X.reshape(X.shape[0], X.shape[1] * X.shape[2])\n",
    "\n",
    "X_train_pca = flatten(X_train_pca)\n",
    "X_test_pca = flatten(X_test_pca)"
   ]
  },
  {
   "cell_type": "code",
   "execution_count": 21,
   "metadata": {
    "collapsed": true
   },
   "outputs": [],
   "source": [
    "param_grid = {'C': [1e3, 5e3, 1e4, 5e4, 1e5],\n",
    "              'gamma': [0.0001, 0.0005, 0.001, 0.005, 0.01, 0.1], }\n",
    "clf = GridSearchCV(SVC(kernel='rbf', class_weight='balanced'), param_grid)"
   ]
  },
  {
   "cell_type": "code",
   "execution_count": 23,
   "metadata": {
    "collapsed": false
   },
   "outputs": [
    {
     "name": "stdout",
     "output_type": "stream",
     "text": [
      "SVC(C=1000.0, cache_size=200, class_weight='balanced', coef0=0.0,\n",
      "  decision_function_shape=None, degree=3, gamma=0.0001, kernel='rbf',\n",
      "  max_iter=-1, probability=False, random_state=None, shrinking=True,\n",
      "  tol=0.001, verbose=False)\n"
     ]
    }
   ],
   "source": [
    "clf = clf.fit(X_train_pca, y_train)\n",
    "print(clf.best_estimator_)"
   ]
  },
  {
   "cell_type": "code",
   "execution_count": 24,
   "metadata": {
    "collapsed": true
   },
   "outputs": [],
   "source": [
    "y_pred = clf.predict(X_test_pca)"
   ]
  },
  {
   "cell_type": "code",
   "execution_count": 25,
   "metadata": {
    "collapsed": false
   },
   "outputs": [
    {
     "name": "stdout",
     "output_type": "stream",
     "text": [
      "                   precision    recall  f1-score   support\n",
      "\n",
      "     Ariel Sharon       0.83      0.77      0.80        13\n",
      "     Colin Powell       0.86      0.93      0.90        60\n",
      "  Donald Rumsfeld       0.66      0.70      0.68        27\n",
      "    George W Bush       0.94      0.90      0.92       146\n",
      "Gerhard Schroeder       0.96      0.88      0.92        25\n",
      "      Hugo Chavez       0.93      0.87      0.90        15\n",
      "       Tony Blair       0.82      0.89      0.85        36\n",
      "\n",
      "      avg / total       0.89      0.88      0.88       322\n",
      "\n"
     ]
    }
   ],
   "source": [
    "print(classification_report(y_test, y_pred, target_names=d.target_names))"
   ]
  }
 ],
 "metadata": {
  "kernelspec": {
   "display_name": "Python 3",
   "language": "python",
   "name": "python3"
  },
  "language_info": {
   "codemirror_mode": {
    "name": "ipython",
    "version": 3
   },
   "file_extension": ".py",
   "mimetype": "text/x-python",
   "name": "python",
   "nbconvert_exporter": "python",
   "pygments_lexer": "ipython3",
   "version": "3.5.2"
  }
 },
 "nbformat": 4,
 "nbformat_minor": 1
}
